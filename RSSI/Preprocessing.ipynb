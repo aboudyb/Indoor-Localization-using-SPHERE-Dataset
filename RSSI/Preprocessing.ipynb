{
 "cells": [
  {
   "cell_type": "code",
   "execution_count": 1,
   "id": "31da2e72",
   "metadata": {},
   "outputs": [],
   "source": [
    "import pandas as pd\n",
    "\n",
    "RSSI=pd.read_csv('C:/Users/aboud/Applied Data Science/RSSI/RSSI_10.csv')\n",
    "#Fill blanks with value from above row\n",
    "RSSIFilled=RSSI.fillna(method='ffill')\n",
    "RSSIFilled.to_csv('C:/Users/aboud/Applied Data Science/RSSI/RSSI_10_updated.csv', index=False)"
   ]
  },
  {
   "cell_type": "code",
   "execution_count": 15,
   "id": "a950d4be",
   "metadata": {},
   "outputs": [],
   "source": [
    "import pandas as pd\n",
    "import numpy as np\n",
    "\n",
    "RSSI=pd.read_csv('C:/Users/aboud/Applied Data Science/RSSI/RSSI_10_updated.csv')\n",
    "#Change from 20 Hz to 1 Hz\n",
    "RSSIavg=RSSI.groupby(np.arange(len(RSSI))//20).mean()\n",
    "RSSIavg.to_csv('C:/Users/aboud/Applied Data Science/RSSI/RSSI_10_averaged.csv', index=False)"
   ]
  },
  {
   "cell_type": "code",
   "execution_count": null,
   "id": "918a83e7",
   "metadata": {},
   "outputs": [],
   "source": [
    "import pandas as pd\n",
    "import numpy as np\n",
    "\n",
    "dF=pd.read_csv('C:/Users/aboud/Applied Data Science/RSSI/RSSI_1_averaged.csv')\n",
    "dF=pd.read_csv('C:/Users/aboud/Applied Data Science/RSSI/RSSI_2_averaged.csv')\n",
    "dF=pd.read_csv('C:/Users/aboud/Applied Data Science/RSSI/RSSI_3_averaged.csv')\n",
    "dF=pd.read_csv('C:/Users/aboud/Applied Data Science/RSSI/RSSI_4_averaged.csv')\n",
    "dF=pd.read_csv('C:/Users/aboud/Applied Data Science/RSSI/RSSI_5_averaged.csv')\n",
    "dF=pd.read_csv('C:/Users/aboud/Applied Data Science/RSSI/RSSI_6_averaged.csv')\n",
    "dF=pd.read_csv('C:/Users/aboud/Applied Data Science/RSSI/RSSI_7_averaged.csv')\n",
    "dF=pd.read_csv('C:/Users/aboud/Applied Data Science/RSSI/RSSI_8_averaged.csv')\n",
    "dF=pd.read_csv('C:/Users/aboud/Applied Data Science/RSSI/RSSI_9_averaged.csv')\n",
    "dF=pd.read_csv('C:/Users/aboud/Applied Data Science/RSSI/RSSI_10_averaged.csv')\n",
    "\n",
    "#Add a column for seconds\n",
    "dF['Seconds']=np.arange(start=1,stop=len(df)+1)\n",
    "\n",
    "dF.to_csv('C:/Users/aboud/Applied Data Science/RSSI/RSSI_1_Seconds.csv',)\n",
    "dF.to_csv('C:/Users/aboud/Applied Data Science/RSSI/RSSI_2_Seconds.csv',)\n",
    "dF.to_csv('C:/Users/aboud/Applied Data Science/RSSI/RSSI_3_Seconds.csv',)\n",
    "dF.to_csv('C:/Users/aboud/Applied Data Science/RSSI/RSSI_4_Seconds.csv',)\n",
    "dF.to_csv('C:/Users/aboud/Applied Data Science/RSSI/RSSI_5_Seconds.csv',)\n",
    "dF.to_csv('C:/Users/aboud/Applied Data Science/RSSI/RSSI_6_Seconds.csv',)\n",
    "dF.to_csv('C:/Users/aboud/Applied Data Science/RSSI/RSSI_7_Seconds.csv',)\n",
    "dF.to_csv('C:/Users/aboud/Applied Data Science/RSSI/RSSI_8_Seconds.csv',)\n",
    "dF.to_csv('C:/Users/aboud/Applied Data Science/RSSI/RSSI_9_Seconds.csv',)\n",
    "dF.to_csv('C:/Users/aboud/Applied Data Science/RSSI/RSSI_10_Seconds.csv',)"
   ]
  },
  {
   "cell_type": "code",
   "execution_count": 2,
   "id": "1684c259",
   "metadata": {},
   "outputs": [],
   "source": [
    "#Label RSSI values with room index from locations file\n",
    "import pandas as pd\n",
    "\n",
    "def labelRSSIWithLocation(rssiFile, locationFile, outputFile):\n",
    "    rssiData=pd.read_csv(rssiFile)\n",
    "    locationData=pd.read_csv(locationFile)\n",
    "    #-1 for rooms with no label\n",
    "    rssiData['Room']=-1\n",
    "    for _, location in locationData.iterrows():\n",
    "        start=location['start']\n",
    "        end=location['end']\n",
    "        roomLabel=location['index']\n",
    "        rssiData.loc[(rssiData['t']>=start)&(rssiData['t']<=end),'Room']=roomLabel #Use loc method to label RSSI values based on timestamps\n",
    "    rssiData.to_csv(outputFile,index=False)\n",
    "#RSSI data and location annotations for one or two annotators\n",
    "rssiFile='C:/Users/aboud/Applied Data Science/RSSI/featureData/rssi_lwags_00001.csv'\n",
    "locationFile1='C:/Users/aboud/Applied Data Science/RSSI/Locations/location_0_1.csv'\n",
    "#locationFile2='C:/Users/aboud/Applied Data Science/RSSI/Locations/location_1_7.csv'\n",
    "outputFile1='C:/Users/aboud/Applied Data Science/RSSI/labelsRSSI/RSSI_1_Annotator1.csv'\n",
    "#outputFile2='C:/Users/aboud/Applied Data Science/RSSI/labelsRSSI/RSSI_7_Annotator2.csv'\n",
    "labelRSSIWithLocation(rssiFile,locationFile1,outputFile1)\n",
    "#labelRSSIWithLocation(rssiFile,locationFile2,outputFile2)"
   ]
  },
  {
   "cell_type": "code",
   "execution_count": 13,
   "id": "81ed64e3",
   "metadata": {},
   "outputs": [],
   "source": [
    "#Label RSSI values with room index from pir files\n",
    "import pandas as pd\n",
    "\n",
    "def labelRSSIWithLocation(rssiFile, pirFile, outputFile):\n",
    "    rssiData=pd.read_csv(rssiFile)\n",
    "    pirData=pd.read_csv(pirFile)\n",
    "    #-1 for rooms with no label\n",
    "    rssiData['Room']=-1\n",
    "    for _, location in pirData.iterrows():\n",
    "        start=location['start']\n",
    "        end=location['end']\n",
    "        roomLabel=location['index']\n",
    "        rssiData.loc[(rssiData['Seconds']>=start)&(rssiData['Seconds']<=end),'Room']=roomLabel #Use loc method to label RSSI values based on timestamps\n",
    "    rssiData.to_csv(outputFile,index=False)\n",
    "#RSSI data and pir annotations \n",
    "rssiFile='C:/Users/aboud/Applied Data Science/RSSI/RSSI_10_Seconds.csv'\n",
    "pirFile='C:/Users/aboud/Applied Data Science/RSSI/pir/pir10.csv'\n",
    "outputFile='C:/Users/aboud/Applied Data Science/RSSI/pirLabelsRawData/RawRSSI_labels_10_pir.csv'\n",
    "labelRSSIWithLocation(rssiFile,pirFile,outputFile)"
   ]
  },
  {
   "cell_type": "code",
   "execution_count": null,
   "id": "b8b4dc7e",
   "metadata": {},
   "outputs": [],
   "source": []
  }
 ],
 "metadata": {
  "kernelspec": {
   "display_name": "Python 3 (ipykernel)",
   "language": "python",
   "name": "python3"
  },
  "language_info": {
   "codemirror_mode": {
    "name": "ipython",
    "version": 3
   },
   "file_extension": ".py",
   "mimetype": "text/x-python",
   "name": "python",
   "nbconvert_exporter": "python",
   "pygments_lexer": "ipython3",
   "version": "3.11.5"
  }
 },
 "nbformat": 4,
 "nbformat_minor": 5
}
